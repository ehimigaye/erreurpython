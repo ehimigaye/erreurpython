{
 "cells": [
  {
   "cell_type": "code",
   "execution_count": 1,
   "id": "73fd7a6a",
   "metadata": {},
   "outputs": [
    {
     "data": {
      "text/plain": [
       "967"
      ]
     },
     "execution_count": 1,
     "metadata": {},
     "output_type": "execute_result"
    }
   ],
   "source": [
    "#Exercice 1\n",
    "mylist=[14, \"hello\", 967]\n",
    "#mylist[6]\n",
    "# la liste a trois index 0 ,2 3 pour rectifier il faut obligatoirement appeler soit 0,1 ou 2\n",
    "mylist[0]\n",
    "mylist[1]\n",
    "mylist[2]"
   ]
  },
  {
   "cell_type": "code",
   "execution_count": 4,
   "id": "c7b1ac34",
   "metadata": {},
   "outputs": [],
   "source": [
    "#Exercice 2\n",
    "#import Pandas\n",
    "#import NumPy\n",
    "#il y a une erreur sur les l' ortographe des packages nous allons la rectifier et aussi leur assigne une sigle pour faciliter leur utilisation\n",
    "import pandas as pd\n",
    "import numpy as np"
   ]
  },
  {
   "cell_type": "code",
   "execution_count": 6,
   "id": "b23705cd",
   "metadata": {},
   "outputs": [
    {
     "name": "stdout",
     "output_type": "stream",
     "text": [
      "python errors\n"
     ]
    }
   ],
   "source": [
    "#execercice 3:\n",
    "#Print\"python errors\"\n",
    "# il ne faut pas oublier les parantheses pour la fonction print\n",
    "print(\"python errors\")"
   ]
  },
  {
   "cell_type": "code",
   "execution_count": 8,
   "id": "f56b9166",
   "metadata": {},
   "outputs": [
    {
     "data": {
      "text/plain": [
       "'hello'"
      ]
     },
     "execution_count": 8,
     "metadata": {},
     "output_type": "execute_result"
    }
   ],
   "source": [
    "#Execercice 4:\n",
    "mydictionnary={True:\"hello\",False:\"bye\", '3':\"python\"}\n",
    "#mydictionnary['True']\n",
    "#il faut remettre true en boleen et non en string\n",
    "mydictionnary[True]"
   ]
  },
  {
   "cell_type": "code",
   "execution_count": null,
   "id": "7ea1e622",
   "metadata": {},
   "outputs": [],
   "source": [
    "#Exercice 5:\n",
    "i=14\n",
    "while i<78:\n",
    "    print(i)\n",
    "    i+=1\n",
    "   \n",
    "    \n",
    "#la condition n' est pas respecte par identation il faut rectifier la condition\n"
   ]
  },
  {
   "cell_type": "code",
   "execution_count": null,
   "id": "8e97b677",
   "metadata": {},
   "outputs": [],
   "source": [
    "#Exercice 5:\n",
    "#'15'+15\n",
    "#on ne peut additionner un element int et un string il faut pour se faire que les deux elements soit de meme type\n",
    "15+15\n"
   ]
  },
  {
   "cell_type": "code",
   "execution_count": null,
   "id": "d9bff681",
   "metadata": {},
   "outputs": [],
   "source": [
    "#Exercice 6:\n",
    "#int('python')\n",
    "#on ne peut definir un integer et implementer un string\n",
    "str('python')"
   ]
  },
  {
   "cell_type": "code",
   "execution_count": null,
   "id": "6176c0a1",
   "metadata": {},
   "outputs": [],
   "source": [
    "#Exercice 7:\n",
    "python\n",
    "# il n'est pas défini donc la machine renvoie une erreur il faut le definir"
   ]
  }
 ],
 "metadata": {
  "kernelspec": {
   "display_name": "Python 3 (ipykernel)",
   "language": "python",
   "name": "python3"
  },
  "language_info": {
   "codemirror_mode": {
    "name": "ipython",
    "version": 3
   },
   "file_extension": ".py",
   "mimetype": "text/x-python",
   "name": "python",
   "nbconvert_exporter": "python",
   "pygments_lexer": "ipython3",
   "version": "3.9.13"
  }
 },
 "nbformat": 4,
 "nbformat_minor": 5
}
